{
  "nbformat": 4,
  "nbformat_minor": 0,
  "metadata": {
    "colab": {
      "provenance": []
    },
    "kernelspec": {
      "name": "python3",
      "display_name": "Python 3"
    },
    "language_info": {
      "name": "python"
    }
  },
  "cells": [
    {
      "cell_type": "code",
      "execution_count": null,
      "metadata": {
        "colab": {
          "base_uri": "https://localhost:8080/"
        },
        "id": "dRbOBAv8q3kN",
        "outputId": "8e4a413c-cf81-412f-9e38-06f9bf19d4fb"
      },
      "outputs": [
        {
          "output_type": "stream",
          "name": "stdout",
          "text": [
            "Your First Name : anu\n",
            "Your Last Name : belli\n",
            "anubelli\n",
            "Go vnn\n"
          ]
        }
      ],
      "source": [
        "First_name = ( input(\"Your First Name : \"))\n",
        "last_name = (input(\"Your Last Name : \"))\n",
        "Full_Name = print(First_name + last_name)\n",
        "\n",
        "def string_alternative(Str):\n",
        "    output = \"\"\n",
        "    for a in range(len(Str)):\n",
        "        if a % 2 == 0:\n",
        "            output += Str[a]\n",
        "    return output\n",
        "\n",
        "print(string_alternative(\"Good evening\"))"
      ]
    },
    {
      "cell_type": "code",
      "source": [
        "\n",
        "file1 = open('input.txt', 'r')\n",
        "counts = dict()\n",
        "data = file1.read()\n",
        "words = data.split()\n",
        "for word in words:\n",
        "    if word in counts:\n",
        "        counts[word] += 1\n",
        "    else:\n",
        "        counts[word] = 1\n",
        "print(counts)\n",
        "\n",
        "f = open('output.txt', 'w')\n",
        "f.write(data)\n",
        "f.write('\\nword_count:\\n')\n",
        "for key, value in counts.items():\n",
        "    f.write(f\"{key}: {value}\\n\")\n",
        "f.close()"
      ],
      "metadata": {
        "colab": {
          "base_uri": "https://localhost:8080/"
        },
        "id": "_NbErRyZsStk",
        "outputId": "e7cc2be5-dba0-4436-d59e-3bd5fd81c708"
      },
      "execution_count": null,
      "outputs": [
        {
          "output_type": "stream",
          "name": "stdout",
          "text": [
            "{'python': 1, 'learning': 2, 'Deep': 1, 'course': 1}\n"
          ]
        }
      ]
    },
    {
      "cell_type": "code",
      "source": [
        "L1=list(map(float,input().split()))\n",
        "L2=[]\n",
        "for x in L1:\n",
        "    x=x*2.54\n",
        "    L2.append(x)\n",
        "print(L2)"
      ],
      "metadata": {
        "colab": {
          "base_uri": "https://localhost:8080/"
        },
        "id": "Is2CFcJiu8FS",
        "outputId": "4bef9903-85cd-40ae-8253-ef3e8d7a5c1d"
      },
      "execution_count": null,
      "outputs": [
        {
          "output_type": "stream",
          "name": "stdout",
          "text": [
            "150 155 145 148\n",
            "[381.0, 393.7, 368.3, 375.92]\n"
          ]
        }
      ]
    },
    {
      "cell_type": "code",
      "source": [
        "L1=list(map(float,input().split()))\n",
        "L2=[x*2.54 for x in L1]\n",
        "print(L2)"
      ],
      "metadata": {
        "colab": {
          "base_uri": "https://localhost:8080/"
        },
        "id": "cCPBLf_bwNna",
        "outputId": "88ce1483-3335-4d91-8105-70aff3b5ace4"
      },
      "execution_count": null,
      "outputs": [
        {
          "output_type": "stream",
          "name": "stdout",
          "text": [
            "150 155 145 148\n",
            "[381.0, 393.7, 368.3, 375.92]\n"
          ]
        }
      ]
    }
  ]
}